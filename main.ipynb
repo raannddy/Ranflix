{
 "cells": [
  {
   "cell_type": "code",
   "execution_count": 1,
   "metadata": {},
   "outputs": [],
   "source": [
    "from user import *"
   ]
  },
  {
   "cell_type": "code",
   "execution_count": 2,
   "metadata": {},
   "outputs": [],
   "source": [
    "user_1 = User()"
   ]
  },
  {
   "cell_type": "code",
   "execution_count": 3,
   "metadata": {},
   "outputs": [],
   "source": [
    "user_1.login('Randy')"
   ]
  },
  {
   "cell_type": "code",
   "execution_count": 4,
   "metadata": {},
   "outputs": [
    {
     "data": {
      "text/plain": [
       "'Randy'"
      ]
     },
     "execution_count": 4,
     "metadata": {},
     "output_type": "execute_result"
    }
   ],
   "source": [
    "user_1.username"
   ]
  },
  {
   "cell_type": "code",
   "execution_count": 5,
   "metadata": {},
   "outputs": [
    {
     "data": {
      "text/plain": [
       "'Randy'"
      ]
     },
     "execution_count": 5,
     "metadata": {},
     "output_type": "execute_result"
    }
   ],
   "source": [
    "user_1.username"
   ]
  },
  {
   "cell_type": "code",
   "execution_count": 6,
   "metadata": {},
   "outputs": [
    {
     "data": {
      "text/plain": [
       "'Basic Plan'"
      ]
     },
     "execution_count": 6,
     "metadata": {},
     "output_type": "execute_result"
    }
   ],
   "source": [
    "user_1.current_plan"
   ]
  },
  {
   "cell_type": "code",
   "execution_count": 7,
   "metadata": {},
   "outputs": [
    {
     "name": "stdout",
     "output_type": "stream",
     "text": [
      "Plan dari user Randy\n",
      "\n",
      "Plan = Basic Plan\n",
      "Duration = 12 Bulan\n",
      "\n",
      "Basic Plan            Services\n",
      "--------------------  --------------\n",
      "True                  can_stream\n",
      "True                  can_download\n",
      "True                  has_SD\n",
      "True                  has_SD\n",
      "False                 has_UHD\n",
      "1                     num_of_devices\n",
      "3rd party movie only  content\n",
      "120000                price\n"
     ]
    }
   ],
   "source": [
    "user_1.check_plan()"
   ]
  },
  {
   "cell_type": "code",
   "execution_count": 8,
   "metadata": {},
   "outputs": [],
   "source": [
    "user_1.login('didit')"
   ]
  },
  {
   "cell_type": "code",
   "execution_count": 9,
   "metadata": {},
   "outputs": [
    {
     "data": {
      "text/plain": [
       "'didit'"
      ]
     },
     "execution_count": 9,
     "metadata": {},
     "output_type": "execute_result"
    }
   ],
   "source": [
    "user_1.username"
   ]
  },
  {
   "cell_type": "code",
   "execution_count": 10,
   "metadata": {},
   "outputs": [],
   "source": [
    "user_1.current_plan"
   ]
  },
  {
   "cell_type": "code",
   "execution_count": 11,
   "metadata": {},
   "outputs": [
    {
     "name": "stdout",
     "output_type": "stream",
     "text": [
      "Plan dari user didit\n",
      "\n",
      "Plan = None\n",
      "Duration = None Bulan\n",
      "\n",
      "Plan tidak tersedia\n"
     ]
    }
   ],
   "source": [
    "user_1.check_plan()"
   ]
  },
  {
   "cell_type": "code",
   "execution_count": 12,
   "metadata": {},
   "outputs": [
    {
     "name": "stdout",
     "output_type": "stream",
     "text": [
      "Selamat, anda memiliki plan Standard Plan dengan harga Rp 153600.0\n"
     ]
    }
   ],
   "source": [
    "user_1.subscribe('Standard Plan','dian123')"
   ]
  },
  {
   "cell_type": "code",
   "execution_count": 13,
   "metadata": {},
   "outputs": [
    {
     "name": "stdout",
     "output_type": "stream",
     "text": [
      "Plan dari user didit\n",
      "\n",
      "Plan = Standard Plan\n",
      "Duration = 1 Bulan\n",
      "\n",
      "Standard Plan                                           Services\n",
      "------------------------------------------------------  --------------\n",
      "True                                                    can_stream\n",
      "True                                                    can_download\n",
      "True                                                    has_SD\n",
      "True                                                    has_SD\n",
      "False                                                   has_UHD\n",
      "2                                                       num_of_devices\n",
      "Basic Plan Content + Sports (F1, Football, Basketball)  content\n",
      "160000                                                  price\n"
     ]
    }
   ],
   "source": [
    "user_1.check_plan()"
   ]
  },
  {
   "cell_type": "code",
   "execution_count": 15,
   "metadata": {},
   "outputs": [],
   "source": [
    "user_1.login('tono')"
   ]
  },
  {
   "cell_type": "code",
   "execution_count": null,
   "metadata": {},
   "outputs": [],
   "source": []
  }
 ],
 "metadata": {
  "kernelspec": {
   "display_name": "Python 3",
   "language": "python",
   "name": "python3"
  },
  "language_info": {
   "codemirror_mode": {
    "name": "ipython",
    "version": 3
   },
   "file_extension": ".py",
   "mimetype": "text/x-python",
   "name": "python",
   "nbconvert_exporter": "python",
   "pygments_lexer": "ipython3",
   "version": "3.12.1"
  }
 },
 "nbformat": 4,
 "nbformat_minor": 2
}
